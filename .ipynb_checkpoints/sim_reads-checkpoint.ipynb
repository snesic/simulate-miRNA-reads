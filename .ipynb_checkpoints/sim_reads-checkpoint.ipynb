{
 "cells": [
  {
   "cell_type": "markdown",
   "metadata": {},
   "source": [
    "### Simulate miRNA reads using mature and hairpin miRNA database "
   ]
  },
  {
   "cell_type": "code",
   "execution_count": 1,
   "metadata": {
    "collapsed": true
   },
   "outputs": [],
   "source": [
    "from itertools import islice\n",
    "\n",
    "%matplotlib inline\n",
    "import matplotlib.pyplot as plt\n",
    "\n",
    "import numpy as np\n",
    "import pandas as pd\n",
    "\n",
    "import random"
   ]
  },
  {
   "cell_type": "markdown",
   "metadata": {},
   "source": [
    "### Every read name in fastq must contain\n",
    "                    miRNA and hairpin name, \n",
    "                    start and end position of miRNA in Hairpin, \n",
    "                    templated gain or loss,\n",
    "                    mutations, \n",
    "                    additions.\n",
    "                    Example: @hsa-let-7b_hsa-let-7b-5p_5:32_5:0_mut:1G/3G_add:null"
   ]
  },
  {
   "cell_type": "code",
   "execution_count": 2,
   "metadata": {
    "collapsed": false
   },
   "outputs": [],
   "source": [
    "# Create dataframe with database motifs, mature and hairpin miRNAs \n",
    "\n",
    "def readMotifsFromFile(filename):\n",
    "    file=open(filename, 'r')\n",
    "    cols = [\"name\",\"motif\",\"sequence\"]\n",
    "    readsD = {i:[] for i in cols}\n",
    "    reads=pd.DataFrame(columns=cols)\n",
    "    for line in file: \n",
    "        if(line.startswith(\">\")): \n",
    "            name = list(filter(None, line.rstrip().split(' ')))\n",
    "            readsD['name'].append('@'+name[0][1:])\n",
    "            readsD['motif'].append(name[1])\n",
    "        else: \n",
    "            readsD['sequence'].append(line.rstrip())      \n",
    "    file.close()\n",
    "    \n",
    "    reads=pd.DataFrame(columns=cols)\n",
    "    return reads.append(pd.DataFrame.from_dict(readsD))\n",
    "\n",
    "\n",
    "\n",
    "def readMIRNAfromFile(filename):\n",
    "    file=open(filename, 'r')\n",
    "    cols = [\"name\",\"sequence\",\"qualities\"]\n",
    "    readsD = {i:[] for i in cols}\n",
    "    reads=pd.DataFrame(columns=cols)\n",
    "    for line in file: \n",
    "        if(line.startswith(\">\")): \n",
    "            name = \"@\" + line.split(' ')[0][1:]\n",
    "            readsD['name'].append(name)\n",
    "        else: \n",
    "            readsD['sequence'].append(line.rstrip())\n",
    "            quals = ''\n",
    "            for i in range(1, len(line)):\n",
    "                quals = quals + quality[int(45 - 10/(i**0.5))]\n",
    "            readsD['qualities'].append(quals)\n",
    "\n",
    "    file.close()\n",
    "    reads=pd.DataFrame(columns=cols)\n",
    "    return reads.append(pd.DataFrame.from_dict(readsD))\n",
    "\n",
    "\n",
    "def matureInHairpin(dfH, s, left, right):\n",
    "    newS = dfH[dfH.sequence.str.find(s['sequence'])!=-1].iloc[0]\n",
    "    pos = newS.sequence.find(s.sequence)\n",
    "    if (pos<left): \n",
    "        left = pos\n",
    "        \n",
    "    quals = \"I\" * left + s.qualities + \"I\" * right  \n",
    "    s.sequence = newS.sequence[pos - left:pos+len(s.sequence)+right]\n",
    "    s.qualities = quals[:len(s.sequence)]\n",
    "    s[\"name\"] = newS[\"name\"] + \"_\" + s[\"name\"][1:] + \"_\" +  str(pos) + ':' + str(pos + len(s.sequence)) + \"_\" + str(left) + ':' + str(right)\n",
    "    return s\n",
    "\n",
    "\n",
    "\n",
    "def dataFrameToFastq(df, filename):\n",
    "    thefile = open(filename, 'w')\n",
    "    for index, row in df.iterrows():\n",
    "        thefile.write(\"%s\\n\" % row['name'])\n",
    "        thefile.write(\"%s\\n\" % row['sequence'])\n",
    "        thefile.write(\"%s\\n\" % \"+\")\n",
    "        thefile.write(\"%s\\n\" % row['qualities'])    \n",
    "    thefile.close()\n",
    "\n"
   ]
  },
  {
   "cell_type": "code",
   "execution_count": null,
   "metadata": {
    "collapsed": true
   },
   "outputs": [],
   "source": [
    "# Introduce variations and indels to reads, functions work with apply: \n",
    "\n",
    "\n",
    "def randomVariation(df, l):\n",
    "    if(len(l)==0): \n",
    "        if(df['name'].find( \"mut:\")==-1):\n",
    "            df['name'] = df['name'] + \"_mut:null\" \n",
    "        return df\n",
    "    s=''\n",
    "    for i in l: \n",
    "        bases = ['A','T','C','G']\n",
    "        bases.remove(df.sequence[i])\n",
    "        s = s + str(i) + df.sequence[i] + '/'\n",
    "        if(i<0):\n",
    "            df.sequence = df.sequence[:i-1] + random.choice(bases) + df.sequence[i:]\n",
    "        else:\n",
    "            df.sequence = df.sequence[:i] + random.choice(bases) + df.sequence[i+1:]\n",
    "        \n",
    "    if(s.endswith('/')): \n",
    "        s = s[:-1]\n",
    "    if(df['name'].find( \"mut:\")==-1):\n",
    "        df['name'] = df['name'] + \"_mut:\" + s\n",
    "    else: \n",
    "        name = df['name'].split('_')\n",
    "        for i in name: \n",
    "            if i.startswith('mut:'):\n",
    "                i = i+'/'+s\n",
    "        df['name'] = '_'.join(name)\n",
    "    return df\n",
    "    \n",
    "def randomDeletion(df, l):\n",
    "    for i in l: \n",
    "        s = str(df.sequence[:i] + df.sequence[i+1:])\n",
    "        q = str(df.qualities[:i] + df.qualities[i+1:])\n",
    "    df.sequence = s\n",
    "    df.qualities = q\n",
    "    name = df['name'].split(':')\n",
    "    name[2] = name[2] + \"-\" + str(len(l)) + \"D\"\n",
    "    df['name'] = ':'.join(name)\n",
    "    return df\n",
    "\n",
    "\n",
    "def randomInsertion(df, l):\n",
    "    bases = ['A','T','C','G']\n",
    "    for i in l: \n",
    "        s = str(df.sequence[:i] + random.choice(bases) + df.sequence[i+1:])\n",
    "        q = str(df.qualities[:i] + 'I' + df.qualities[i+1:])\n",
    "    df.sequence = s\n",
    "    df.qualities = q\n",
    "    name = df['name'].split(':')\n",
    "    name[2] = name[2] + \"-\" + str(len(l)) + \"I\"\n",
    "    df['name'] = ':'.join(name)\n",
    "    return df\n",
    "\n",
    "def cutBases(df, where): # Cut 1-2 bases on 5' end and 1-5 bases on 3' end\n",
    "    if(where==5):\n",
    "        n = random.randint(1,2)\n",
    "        #m = df['sequence'].find(df['motif']) # skip motifs\n",
    "        #n = min(n,m)\n",
    "        loss = df['sequence'][:n]\n",
    "        df['sequence'] = df['sequence'][n:]\n",
    "        df['qualities'] = df['qualities'][n:]\n",
    "    else: \n",
    "        sLen=len(df['sequence'])\n",
    "        n = sLen - random.randint(1,5)\n",
    "        #m = df['sequence'].find(df['motif']) + len(df['motif']) # skip motifs\n",
    "        #n  = max(n,m)\n",
    "        loss = df['sequence'][n:]\n",
    "        df['sequence'] = df['sequence'][:n]\n",
    "        df['qualities'] = df['qualities'][:n]\n",
    "        \n",
    "    df['name'] = df['name'] + \"_add:\" + 'loss-' + str(where) + 'p-' + loss\n",
    "    return df\n",
    "\n",
    "def addBases(df, s, where):\n",
    "    if(len(s)==0): \n",
    "        df['name'] = df['name'] + \"_add:null\" \n",
    "        return df\n",
    "    if(where==3):\n",
    "        df.sequence = df.sequence + s\n",
    "        df.qualities = df.qualities + \"I\" * len(s)\n",
    "    else: \n",
    "        df.sequence = s + df.sequence\n",
    "        df.qualities = \"I\" * len(s) + df.qualities\n",
    "\n",
    "    df['name'] = df['name'] + \"_add:\" + s\n",
    "    return df\n",
    "\n",
    "def addRandomBases(df, n, where):\n",
    "    bases = ['A','T','C','G']\n",
    "    if(n==0): \n",
    "        df['name'] = df['name'] + \"_add:null\" \n",
    "        return df\n",
    "    randSeq = ''.join(np.random.choice(bases,n))\n",
    "    if(where==3):\n",
    "        df.sequence = df.sequence + randSeq\n",
    "        df.qualities = df.qualities + \"I\" * n\n",
    "    else: \n",
    "        df.sequence =  randSeq + df.sequence\n",
    "        df.qualities = \"I\" * n + df.qualities\n",
    "\n",
    "    df['name'] = df['name'] + \"_add:\" + \"gain-\" + str(where) + 'p-' + randSeq\n",
    "    return df\n",
    "\n",
    "\n",
    "def addPCRErr(df, prob):\n",
    "    arr = [i for i in range(0,len(df['sequence'])) if random.uniform(0,1)<prob]\n",
    "    if len(arr)>0:\n",
    "        seq=list(df['sequence'])\n",
    "        for i in arr: \n",
    "            bases = ['A','T','C','G']\n",
    "            bases.remove(seq[i])\n",
    "            seq[i]=random.choice(bases)\n",
    "        df['sequence']=''.join(seq) \n",
    "        df['name'] = df['name'] + \"_PCRerr:\" + '-'.join(map(str,arr))\n",
    "    return df"
   ]
  },
  {
   "cell_type": "code",
   "execution_count": 3,
   "metadata": {
    "collapsed": true
   },
   "outputs": [],
   "source": [
    "quality = \"\"\" !\"#$%&'()*+,-./0123456789:;<=>?@ABCDEFGHIJKLMNOPQRSTUVWXYZ[\\]^_`abcdefghijklmnopqrstuvwxyz{|}~ \"\"\"\n"
   ]
  },
  {
   "cell_type": "code",
   "execution_count": 4,
   "metadata": {
    "collapsed": true
   },
   "outputs": [],
   "source": [
    "file_mature='mature_homo.fa'\n",
    "file_hairpin='hairpin_homo.fa'"
   ]
  },
  {
   "cell_type": "code",
   "execution_count": 25,
   "metadata": {
    "collapsed": false
   },
   "outputs": [
    {
     "data": {
      "text/html": [
       "<div>\n",
       "<table border=\"1\" class=\"dataframe\">\n",
       "  <thead>\n",
       "    <tr style=\"text-align: right;\">\n",
       "      <th></th>\n",
       "      <th>name</th>\n",
       "      <th>qualities</th>\n",
       "      <th>sequence</th>\n",
       "    </tr>\n",
       "  </thead>\n",
       "  <tbody>\n",
       "    <tr>\n",
       "      <th>0</th>\n",
       "      <td>@hsa-let-7a-1</td>\n",
       "      <td>CEGHHHIIIIIJJJJJJJJJJJJJKKKKKKKKKKKKKKKKKKKKKK...</td>\n",
       "      <td>TGGGATGAGGTAGTAGGTTGTATAGTTTTAGGGTCACACCCACCAC...</td>\n",
       "    </tr>\n",
       "    <tr>\n",
       "      <th>1</th>\n",
       "      <td>@hsa-let-7a-2</td>\n",
       "      <td>CEGHHHIIIIIJJJJJJJJJJJJJKKKKKKKKKKKKKKKKKKKKKK...</td>\n",
       "      <td>AGGTTGAGGTAGTAGGTTGTATAGTTTAGAATTACATCAAGGGAGA...</td>\n",
       "    </tr>\n",
       "    <tr>\n",
       "      <th>2</th>\n",
       "      <td>@hsa-let-7a-3</td>\n",
       "      <td>CEGHHHIIIIIJJJJJJJJJJJJJKKKKKKKKKKKKKKKKKKKKKK...</td>\n",
       "      <td>GGGTGAGGTAGTAGGTTGTATAGTTTGGGGCTCTGCCCTGCTATGG...</td>\n",
       "    </tr>\n",
       "    <tr>\n",
       "      <th>3</th>\n",
       "      <td>@hsa-let-7b</td>\n",
       "      <td>CEGHHHIIIIIJJJJJJJJJJJJJKKKKKKKKKKKKKKKKKKKKKK...</td>\n",
       "      <td>CGGGGTGAGGTAGTAGGTTGTGTGGTTTCAGGGCAGTGATGTTGCC...</td>\n",
       "    </tr>\n",
       "    <tr>\n",
       "      <th>4</th>\n",
       "      <td>@hsa-let-7c</td>\n",
       "      <td>CEGHHHIIIIIJJJJJJJJJJJJJKKKKKKKKKKKKKKKKKKKKKK...</td>\n",
       "      <td>GCATCCGGGTTGAGGTAGTAGGTTGTATGGTTTAGAGTTACACCCT...</td>\n",
       "    </tr>\n",
       "  </tbody>\n",
       "</table>\n",
       "</div>"
      ],
      "text/plain": [
       "            name                                          qualities  \\\n",
       "0  @hsa-let-7a-1  CEGHHHIIIIIJJJJJJJJJJJJJKKKKKKKKKKKKKKKKKKKKKK...   \n",
       "1  @hsa-let-7a-2  CEGHHHIIIIIJJJJJJJJJJJJJKKKKKKKKKKKKKKKKKKKKKK...   \n",
       "2  @hsa-let-7a-3  CEGHHHIIIIIJJJJJJJJJJJJJKKKKKKKKKKKKKKKKKKKKKK...   \n",
       "3    @hsa-let-7b  CEGHHHIIIIIJJJJJJJJJJJJJKKKKKKKKKKKKKKKKKKKKKK...   \n",
       "4    @hsa-let-7c  CEGHHHIIIIIJJJJJJJJJJJJJKKKKKKKKKKKKKKKKKKKKKK...   \n",
       "\n",
       "                                            sequence  \n",
       "0  TGGGATGAGGTAGTAGGTTGTATAGTTTTAGGGTCACACCCACCAC...  \n",
       "1  AGGTTGAGGTAGTAGGTTGTATAGTTTAGAATTACATCAAGGGAGA...  \n",
       "2  GGGTGAGGTAGTAGGTTGTATAGTTTGGGGCTCTGCCCTGCTATGG...  \n",
       "3  CGGGGTGAGGTAGTAGGTTGTGTGGTTTCAGGGCAGTGATGTTGCC...  \n",
       "4  GCATCCGGGTTGAGGTAGTAGGTTGTATGGTTTAGAGTTACACCCT...  "
      ]
     },
     "execution_count": 25,
     "metadata": {},
     "output_type": "execute_result"
    }
   ],
   "source": [
    "readsM = readMIRNAfromFile(file_mature)\n",
    "readsH = readMIRNAfromFile(file_hairpin)\n",
    "readsH.head()"
   ]
  },
  {
   "cell_type": "code",
   "execution_count": 27,
   "metadata": {
    "collapsed": false
   },
   "outputs": [],
   "source": [
    "# Multiply number of reads \n",
    "\n",
    "readsSim = readsM.copy()\n",
    "readsSim = readsSim.append(readsSim).reset_index(drop=True)\n",
    "readsSim = readsSim.append(readsSim).reset_index(drop=True)\n",
    "readsSim = readsSim.append(readsSim).reset_index(drop=True)\n"
   ]
  },
  {
   "cell_type": "code",
   "execution_count": 28,
   "metadata": {
    "collapsed": false
   },
   "outputs": [
    {
     "data": {
      "text/html": [
       "<div>\n",
       "<table border=\"1\" class=\"dataframe\">\n",
       "  <thead>\n",
       "    <tr style=\"text-align: right;\">\n",
       "      <th></th>\n",
       "      <th>name</th>\n",
       "      <th>qualities</th>\n",
       "      <th>sequence</th>\n",
       "    </tr>\n",
       "  </thead>\n",
       "  <tbody>\n",
       "    <tr>\n",
       "      <th>0</th>\n",
       "      <td>@hsa-let-7a-5p</td>\n",
       "      <td>CEGHHHIIIIIJJJJJJJJJJJ</td>\n",
       "      <td>TGAGGTAGTAGGTTGTATAGTT</td>\n",
       "    </tr>\n",
       "    <tr>\n",
       "      <th>1</th>\n",
       "      <td>@hsa-let-7a-3p</td>\n",
       "      <td>CEGHHHIIIIIJJJJJJJJJJ</td>\n",
       "      <td>CTATACAATCTACTGTCTTTC</td>\n",
       "    </tr>\n",
       "    <tr>\n",
       "      <th>2</th>\n",
       "      <td>@hsa-let-7a-2-3p</td>\n",
       "      <td>CEGHHHIIIIIJJJJJJJJJJJ</td>\n",
       "      <td>CTGTACAGCCTCCTAGCTTTCC</td>\n",
       "    </tr>\n",
       "    <tr>\n",
       "      <th>3</th>\n",
       "      <td>@hsa-let-7b-5p</td>\n",
       "      <td>CEGHHHIIIIIJJJJJJJJJJJ</td>\n",
       "      <td>TGAGGTAGTAGGTTGTGTGGTT</td>\n",
       "    </tr>\n",
       "    <tr>\n",
       "      <th>4</th>\n",
       "      <td>@hsa-let-7b-3p</td>\n",
       "      <td>CEGHHHIIIIIJJJJJJJJJJJ</td>\n",
       "      <td>CTATACAACCTACTGCCTTCCC</td>\n",
       "    </tr>\n",
       "  </tbody>\n",
       "</table>\n",
       "</div>"
      ],
      "text/plain": [
       "               name               qualities                sequence\n",
       "0    @hsa-let-7a-5p  CEGHHHIIIIIJJJJJJJJJJJ  TGAGGTAGTAGGTTGTATAGTT\n",
       "1    @hsa-let-7a-3p   CEGHHHIIIIIJJJJJJJJJJ   CTATACAATCTACTGTCTTTC\n",
       "2  @hsa-let-7a-2-3p  CEGHHHIIIIIJJJJJJJJJJJ  CTGTACAGCCTCCTAGCTTTCC\n",
       "3    @hsa-let-7b-5p  CEGHHHIIIIIJJJJJJJJJJJ  TGAGGTAGTAGGTTGTGTGGTT\n",
       "4    @hsa-let-7b-3p  CEGHHHIIIIIJJJJJJJJJJJ  CTATACAACCTACTGCCTTCCC"
      ]
     },
     "execution_count": 28,
     "metadata": {},
     "output_type": "execute_result"
    }
   ],
   "source": [
    "readsSim.head()"
   ]
  },
  {
   "cell_type": "code",
   "execution_count": 193,
   "metadata": {
    "collapsed": false
   },
   "outputs": [],
   "source": [
    "# Templated gain 1-2nt 3' end + pcr noise\n",
    "where=3\n",
    "readsSim1 = readsSim.copy()\n",
    "prob=0.001\n",
    "\n",
    "readsSim1.apply(lambda x: matureInHairpin(readsH,x,0,random.randint(1,2)), axis=1)\n",
    "readsSim1.apply(lambda x: randomVariation(x, []), axis=1)\n",
    "readsSim1.apply(lambda x: addBases(x, '', where), axis=1)\n",
    "\n",
    "readsSim1.apply(lambda x: addPCRErr(x, prob), axis=1)\n",
    "\n",
    "filename = 'test_gainTemp_' + str(where) + 'p_' + 'mirnaPCRerr.fastq'\n",
    "dataFrameToFastq(readsSim1, filename)"
   ]
  },
  {
   "cell_type": "code",
   "execution_count": 194,
   "metadata": {
    "collapsed": true
   },
   "outputs": [],
   "source": [
    "# Templated gain 1-2nt 5' end + pcr noise\n",
    "where=5\n",
    "readsSim1 = readsSim.copy()\n",
    "prob=0.001\n",
    "\n",
    "readsSim1.apply(lambda x: matureInHairpin(readsH,x,random.randint(1,2),0), axis=1)\n",
    "readsSim1.apply(lambda x: randomVariation(x, []), axis=1)\n",
    "readsSim1.apply(lambda x: addBases(x, '', where), axis=1)\n",
    "\n",
    "readsSim1.apply(lambda x: addPCRErr(x, prob), axis=1)\n",
    "\n",
    "filename = 'test_gainTemp_' + str(where) + 'p_' + 'mirnaPCRerr.fastq'\n",
    "dataFrameToFastq(readsSim1, filename)"
   ]
  },
  {
   "cell_type": "code",
   "execution_count": 195,
   "metadata": {
    "collapsed": false
   },
   "outputs": [],
   "source": [
    "# Unemplated gain 1-7nt 3' end + pcr noise\n",
    "where=3\n",
    "readsSim1 = readsSim.copy()\n",
    "prob=0.001\n",
    "\n",
    "readsSim1.apply(lambda x: matureInHairpin(readsH,x,0,0), axis=1)\n",
    "readsSim1.apply(lambda x: randomVariation(x, []), axis=1)\n",
    "readsSim1.apply(lambda x: addRandomBases(x, random.randint(1,7),where), axis=1)\n",
    "\n",
    "readsSim1.apply(lambda x: addPCRErr(x, prob), axis=1)\n",
    "\n",
    "filename = 'test_gainRand_' + str(where) + 'p_' + 'mirnaPCRerr.fastq'\n",
    "dataFrameToFastq(readsSim1, filename)"
   ]
  },
  {
   "cell_type": "code",
   "execution_count": 196,
   "metadata": {
    "collapsed": true
   },
   "outputs": [],
   "source": [
    "# Unemplated gain 1-2nt 5' end\n",
    "where=5\n",
    "readsSim1 = readsSim.copy()\n",
    "prob=0.001\n",
    "\n",
    "readsSim1.apply(lambda x: matureInHairpin(readsH,x,0,0), axis=1)\n",
    "readsSim1.apply(lambda x: randomVariation(x, []), axis=1)\n",
    "readsSim1.apply(lambda x: addRandomBases(x, random.randint(1,2),where), axis=1)\n",
    "readsSim1.apply(lambda x: addPCRErr(x, prob), axis=1)\n",
    "\n",
    "filename = 'test_gainRand_' + str(where) + 'p_' + 'mirnaPCRerr.fastq'\n",
    "dataFrameToFastq(readsSim1, filename)"
   ]
  },
  {
   "cell_type": "markdown",
   "metadata": {},
   "source": [
    "# Motifs"
   ]
  },
  {
   "cell_type": "code",
   "execution_count": 29,
   "metadata": {
    "collapsed": false
   },
   "outputs": [],
   "source": [
    "motifs = readMotifsFromFile('motif-list-13-new.fa')"
   ]
  },
  {
   "cell_type": "code",
   "execution_count": null,
   "metadata": {
    "collapsed": false
   },
   "outputs": [],
   "source": [
    "#motifs[~motifs['name'].isin(readsM['name'])]\n",
    "#readsM[readsM['name'].isin(motifs['name'])]"
   ]
  },
  {
   "cell_type": "code",
   "execution_count": 30,
   "metadata": {
    "collapsed": false
   },
   "outputs": [],
   "source": [
    "MotifsAndReads = pd.merge(readsM, motifs, how='inner', on=['name','sequence'])"
   ]
  },
  {
   "cell_type": "code",
   "execution_count": 31,
   "metadata": {
    "collapsed": true
   },
   "outputs": [],
   "source": [
    "readsSim = MotifsAndReads.copy()\n",
    "readsSim = readsSim.append(readsSim).reset_index(drop=True)\n",
    "readsSim = readsSim.append(readsSim).reset_index(drop=True)\n",
    "readsSim = readsSim.append(readsSim).reset_index(drop=True)"
   ]
  },
  {
   "cell_type": "code",
   "execution_count": 15,
   "metadata": {
    "collapsed": true
   },
   "outputs": [],
   "source": [
    "#3' end trimming 1-2nt + pcr error\n",
    "where=3\n",
    "prob=0.001\n",
    "readsSim1 = readsSim.copy()\n",
    "\n",
    "readsSim1.apply(lambda x: matureInHairpin(readsH,x,0,0), axis=1)\n",
    "readsSim1.apply(lambda x: randomVariation(x, []), axis=1)\n",
    "readsSim1.apply(lambda x: cutBases(x,where),axis=1)\n",
    "\n",
    "readsSim1.apply(lambda x: addPCRErr(x, prob), axis=1)\n",
    "\n",
    "filename = 'test_lossRand_' + str(where) + 'p_' + 'mirnaPCRerr.fastq'\n",
    "dataFrameToFastq(readsSim1, filename)"
   ]
  },
  {
   "cell_type": "code",
   "execution_count": 201,
   "metadata": {
    "collapsed": false
   },
   "outputs": [],
   "source": [
    "#5' end trimming 1-2nt + pcr error\n",
    "where=5\n",
    "prob=0.001\n",
    "readsSim1 = readsSim.copy()\n",
    "\n",
    "readsSim1.apply(lambda x: matureInHairpin(readsH,x,0,0), axis=1)\n",
    "readsSim1.apply(lambda x: randomVariation(x, []), axis=1)\n",
    "readsSim1.apply(lambda x: cutBases(x,where),axis=1)\n",
    "\n",
    "readsSim1.apply(lambda x: addPCRErr(x, prob), axis=1)\n",
    "\n",
    "\n",
    "filename = 'test_lossRand_' + str(where) + 'p_' + 'mirnaPCRerr.fastq'\n",
    "dataFrameToFastq(readsSim1, filename)"
   ]
  },
  {
   "cell_type": "code",
   "execution_count": 202,
   "metadata": {
    "collapsed": false
   },
   "outputs": [],
   "source": [
    "#5' end SNiPs (but not in motifs) + pcr error\n",
    "where=5\n",
    "prob=0.001\n",
    "readsSim1 = readsSim.copy()\n",
    "\n",
    "readsSim1.apply(lambda x: matureInHairpin(readsH,x,0,0), axis=1)\n",
    "readsSim1.apply(lambda x: randomVariation(x, [random.randint(0,x['sequence'].find(x['motif'])-1)]), \n",
    "                          axis=1)\n",
    "\n",
    "readsSim1.apply(lambda x: addBases(x, '', where), axis=1)\n",
    "\n",
    "readsSim1.apply(lambda x: addPCRErr(x, prob), axis=1)\n",
    "\n",
    "\n",
    "filename = 'test_mirnaSNiP_' + str(where) + 'p_' + 'mirnaPCRerr.fastq'\n",
    "dataFrameToFastq(readsSim1, filename)\n",
    "\n",
    "##Check if any snip is in the motif \n",
    "#any(readsSim1.apply(lambda x:  x['sequence'].find(x['motif']) - int(x['name'].split('_')[4][4])<0, axis=1 ) )\n"
   ]
  },
  {
   "cell_type": "code",
   "execution_count": 205,
   "metadata": {
    "collapsed": false
   },
   "outputs": [],
   "source": [
    "#3' end SNiPs (but not in motifs) + pcr error\n",
    "where=3\n",
    "prob=0.001\n",
    "readsSim1 = readsSim.copy()\n",
    "\n",
    "readsSim1.apply(lambda x: matureInHairpin(readsH,x,0,0), axis=1)\n",
    "readsSim1.apply(lambda x: randomVariation(x, [random.randint(x['sequence'].find(x['motif'])+len(x['motif']),\n",
    "                                                          len(x['sequence'])-1)]),\n",
    "                axis=1)\n",
    "\n",
    "readsSim1.apply(lambda x: addBases(x, '', where), axis=1)\n",
    "\n",
    "readsSim1.apply(lambda x: addPCRErr(x, prob), axis=1)\n",
    "\n",
    "\n",
    "filename = 'test_mirnaSNiP_' + str(where) + 'p_' + 'mirnaPCRerr.fastq'\n",
    "dataFrameToFastq(readsSim1, filename)\n"
   ]
  },
  {
   "cell_type": "code",
   "execution_count": 35,
   "metadata": {
    "collapsed": false
   },
   "outputs": [],
   "source": [
    "#SNiP everywhere + SNip & pcr error\n",
    "\n",
    "prob=0.001\n",
    "readsSim1 = readsSim.copy()\n",
    "\n",
    "readsSim1.apply(lambda x: matureInHairpin(readsH,x,0,0), axis=1)\n",
    "readsSim1.apply(lambda x: randomVariation(x, [random.randint(0,len(x['sequence'])-1)]), axis=1)         \n",
    "readsSim1.apply(lambda x: addBases(x, '', 3), axis=1)\n",
    "\n",
    "filename = 'test_SNiPeverywhere.fastq'\n",
    "dataFrameToFastq(readsSim1, filename)\n",
    "\n",
    "readsSim1.apply(lambda x: addPCRErr(x, prob), axis=1)\n",
    "\n",
    "filename = 'test_SNiPeverywhere_PCRerr.fastq'\n",
    "dataFrameToFastq(readsSim1, filename)\n"
   ]
  },
  {
   "cell_type": "code",
   "execution_count": 1,
   "metadata": {
    "collapsed": false
   },
   "outputs": [],
   "source": [
    "#PCR error only \n",
    "prob=0.001\n",
    "rs = readsSim.copy()\n",
    "\n",
    "rs.apply(lambda x: matureInHairpin(readsH,x,0,0), axis=1)\n",
    "rs.apply(lambda x: addBases(x, '', 3), axis=1)\n",
    "rs.apply(lambda x: randomVariation(x, []), axis=1)\n",
    "\n",
    "rs.apply(lambda x: addPCRErr(x, prob), axis=1)\n",
    "\n",
    "filename = 'test_mirnaPCRerr.fastq'\n",
    "dataFrameToFastq(rs, filename)"
   ]
  },
  {
   "cell_type": "code",
   "execution_count": 203,
   "metadata": {
    "collapsed": false
   },
   "outputs": [
    {
     "data": {
      "text/plain": [
       "383"
      ]
     },
     "execution_count": 203,
     "metadata": {},
     "output_type": "execute_result"
    }
   ],
   "source": [
    "#Number of reads with PCR error\n",
    "\n",
    "len(readsSim1[readsSim1['name'].str.contains(\"_PCRerr\")])"
   ]
  }
 ],
 "metadata": {
  "kernelspec": {
   "display_name": "Python 3",
   "language": "python",
   "name": "python3"
  },
  "language_info": {
   "codemirror_mode": {
    "name": "ipython",
    "version": 3
   },
   "file_extension": ".py",
   "mimetype": "text/x-python",
   "name": "python",
   "nbconvert_exporter": "python",
   "pygments_lexer": "ipython3",
   "version": "3.6.0"
  }
 },
 "nbformat": 4,
 "nbformat_minor": 2
}
